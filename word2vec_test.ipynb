{
 "cells": [
  {
   "cell_type": "code",
   "execution_count": 1,
   "metadata": {},
   "outputs": [],
   "source": [
    "import multiprocessing\n",
    "import numpy as np\n",
    "import os"
   ]
  },
  {
   "cell_type": "code",
   "execution_count": 2,
   "metadata": {},
   "outputs": [],
   "source": [
    "from gensim.models.word2vec import Word2Vec\n",
    "from gensim.corpora.dictionary import Dictionary"
   ]
  },
  {
   "cell_type": "code",
   "execution_count": 3,
   "metadata": {},
   "outputs": [
    {
     "name": "stderr",
     "output_type": "stream",
     "text": [
      "Using TensorFlow backend.\n"
     ]
    }
   ],
   "source": [
    "from keras.preprocessing import sequence\n",
    "from keras.models import Sequential\n",
    "from keras.layers.embeddings import Embedding\n",
    "from keras.layers.recurrent import LSTM\n",
    "from keras.layers.core import Dense, Dropout"
   ]
  },
  {
   "cell_type": "code",
   "execution_count": 4,
   "metadata": {},
   "outputs": [],
   "source": [
    "#한글 토큰화를 위한 API들\n",
    "from konlpy.tag import Okt\n",
    "from pprint import pprint\n",
    "import nltk"
   ]
  },
  {
   "cell_type": "code",
   "execution_count": 5,
   "metadata": {},
   "outputs": [],
   "source": [
    "np.random.seed(1337)"
   ]
  },
  {
   "cell_type": "code",
   "execution_count": 6,
   "metadata": {},
   "outputs": [],
   "source": [
    "vocab_dim = 300 #특징 Vector의 차원 설정\n",
    "maxlen = 100 #최대 시퀀스의 길이.\n",
    "n_iterations = 10  # 반복 수, 많을수록 word2vec의 품질 향상.\n",
    "n_exposures = 30 # word 빈도 최소 기준 수\n",
    "window_size = 7 #target word를 기준으로 예측 단어와의 최대 거리\n",
    "batch_size = 32 #한 번에 학습할 데이터의 크기\n",
    "n_epoch = 2 #학습 반복 수\n",
    "input_length = 100 # 상수 일 때 입력 시퀀스의 길이. Maxlen과 같아야 함.\n",
    "cpu_count = multiprocessing.cpu_count() #학습시킬 컴퓨터 사양 확인"
   ]
  },
  {
   "cell_type": "code",
   "execution_count": 7,
   "metadata": {},
   "outputs": [],
   "source": [
    "def read_data(filename):\n",
    "    with open(filename, 'r', encoding='utf8') as f:\n",
    "        data = [line.split('\\t') for line in f.read().splitlines()]\n",
    "        data = data[1:] #header 제외\n",
    "    return data"
   ]
  },
  {
   "cell_type": "code",
   "execution_count": 8,
   "metadata": {},
   "outputs": [],
   "source": [
    "train_data = read_data('./ratings_train.txt') \n",
    "test_data = read_data('./ratings_test.txt')"
   ]
  },
  {
   "cell_type": "code",
   "execution_count": 9,
   "metadata": {},
   "outputs": [
    {
     "name": "stdout",
     "output_type": "stream",
     "text": [
      "150000\n",
      "3\n",
      "['9976970', '아 더빙.. 진짜 짜증나네요 목소리', '0']\n",
      "50000\n",
      "3\n",
      "['6270596', '굳 ㅋ', '1']\n"
     ]
    }
   ],
   "source": [
    "print(len(train_data)) # train_data : 150,000\n",
    "print(len(train_data[0]))\n",
    "print (train_data[0])\n",
    "\n",
    "print(len(test_data)) # test_data : 50,000\n",
    "print(len(test_data[0]))\n",
    "print(test_data[0])"
   ]
  },
  {
   "cell_type": "code",
   "execution_count": 10,
   "metadata": {},
   "outputs": [],
   "source": [
    "train = {}\n",
    "for i in range(0, len(train_data)):\n",
    "    train[i] = train_data[i][1]"
   ]
  },
  {
   "cell_type": "code",
   "execution_count": 11,
   "metadata": {},
   "outputs": [],
   "source": [
    "test = {}\n",
    "for i in range(0, len(test_data)):\n",
    "    test[i] = test_data[i][1]"
   ]
  },
  {
   "cell_type": "code",
   "execution_count": 12,
   "metadata": {},
   "outputs": [],
   "source": [
    "pos_tagger = Okt()"
   ]
  },
  {
   "cell_type": "code",
   "execution_count": 13,
   "metadata": {},
   "outputs": [
    {
     "data": {
      "text/plain": [
       "['아', '더빙', '..', '진짜', '짜증나네요', '목소리']"
      ]
     },
     "execution_count": 13,
     "metadata": {},
     "output_type": "execute_result"
    }
   ],
   "source": [
    "pos_tagger.morphs(train[0])"
   ]
  },
  {
   "cell_type": "code",
   "execution_count": 14,
   "metadata": {},
   "outputs": [],
   "source": [
    "def tokenizer(text):\n",
    "    text = [pos_tagger.morphs(document) for document in text]\n",
    "    return text"
   ]
  },
  {
   "cell_type": "code",
   "execution_count": 15,
   "metadata": {},
   "outputs": [],
   "source": [
    "combined = train.copy()\n",
    "combined.update(test)"
   ]
  },
  {
   "cell_type": "code",
   "execution_count": 16,
   "metadata": {},
   "outputs": [],
   "source": [
    "combined = tokenizer(combined.values())"
   ]
  },
  {
   "cell_type": "code",
   "execution_count": 17,
   "metadata": {},
   "outputs": [],
   "source": [
    "model = Word2Vec(size = vocab_dim,\n",
    "                 min_count = n_exposures,\n",
    "                 window = window_size,\n",
    "                 workers = cpu_count,\n",
    "                 iter = n_iterations)"
   ]
  },
  {
   "cell_type": "code",
   "execution_count": 18,
   "metadata": {},
   "outputs": [],
   "source": [
    "model.build_vocab(combined)"
   ]
  },
  {
   "cell_type": "code",
   "execution_count": 19,
   "metadata": {},
   "outputs": [
    {
     "name": "stderr",
     "output_type": "stream",
     "text": [
      "C:\\Users\\shine\\anaconda3\\envs\\test\\lib\\site-packages\\ipykernel_launcher.py:1: DeprecationWarning: Call to deprecated `iter` (Attribute will be removed in 4.0.0, use self.epochs instead).\n",
      "  \"\"\"Entry point for launching an IPython kernel.\n"
     ]
    },
    {
     "data": {
      "text/plain": [
       "(14830623, 21536280)"
      ]
     },
     "execution_count": 19,
     "metadata": {},
     "output_type": "execute_result"
    }
   ],
   "source": [
    "model.train(combined, total_examples=model.corpus_count, epochs=model.iter)"
   ]
  },
  {
   "cell_type": "code",
   "execution_count": 20,
   "metadata": {},
   "outputs": [],
   "source": [
    "def create_dictionaries(train = None, test = None, model = None):\n",
    "    if (train is not None) and (model is not None) and (test is not None):\n",
    "        gensim_dict = Dictionary()\n",
    "        gensim_dict.doc2bow(model.wv.vocab.keys(), allow_update=True)\n",
    "        #단어 목록을 (token_id, token_count)인 2-tuples 생성\n",
    "        w2indx = {v: k+1 for k, v in gensim_dict.items()} # (key, value)인 2-tuples 생성\n",
    "        w2vec = {word: model[word] for word in w2indx.keys()}\n",
    "        #각 단어의 word2vec array 생성\n",
    "\n",
    "        #word의 value를 기준으로 수치화 된 train, test데이터 생성. \n",
    "        def parse_dataset(data):\n",
    "            for i in range(0, len(data)):\n",
    "                txt = pos_tagger.morphs(data[i])\n",
    "                new_txt = []\n",
    "                for word in txt:\n",
    "                    try:\n",
    "                        new_txt.append(w2indx[word])\n",
    "                    except:\n",
    "                        new_txt.append(0)\n",
    "                data[i] = new_txt\n",
    "            return data\n",
    "        train = parse_dataset(train)\n",
    "        test = parse_dataset(test)\n",
    "        return w2indx, w2vec, train, test\n",
    "    else:\n",
    "        print('No data provided...')"
   ]
  },
  {
   "cell_type": "code",
   "execution_count": 21,
   "metadata": {},
   "outputs": [
    {
     "name": "stderr",
     "output_type": "stream",
     "text": [
      "C:\\Users\\shine\\anaconda3\\envs\\test\\lib\\site-packages\\ipykernel_launcher.py:7: DeprecationWarning: Call to deprecated `__getitem__` (Method will be removed in 4.0.0, use self.wv.__getitem__() instead).\n",
      "  import sys\n"
     ]
    }
   ],
   "source": [
    "index_dict, word_vectors, train, test = create_dictionaries(train = train,\n",
    "                                                            test = test,\n",
    "                                                            model = model)"
   ]
  },
  {
   "cell_type": "code",
   "execution_count": 22,
   "metadata": {},
   "outputs": [],
   "source": [
    "n_symbols = len(index_dict) + 1  # adding 1 to account for 0th index\n",
    "embedding_weights = np.zeros((n_symbols, vocab_dim))\n",
    "for word, index in index_dict.items():\n",
    "    embedding_weights[index, :] = word_vectors[word]"
   ]
  },
  {
   "cell_type": "code",
   "execution_count": 23,
   "metadata": {},
   "outputs": [],
   "source": [
    "X_train = train.values()\n",
    "y_train = []\n",
    "for z in train_data:\n",
    "    y_train.append(z[2])\n",
    "y_train = y_train\n",
    "\n",
    "X_test = test.values()\n",
    "y_test = []\n",
    "for zz in test_data:\n",
    "    y_test.append(zz[2])\n",
    "y_test = y_test"
   ]
  },
  {
   "cell_type": "code",
   "execution_count": 24,
   "metadata": {},
   "outputs": [
    {
     "name": "stdout",
     "output_type": "stream",
     "text": [
      "X_train shape: (150000, 100)\n",
      "X_test shape: (50000, 100)\n"
     ]
    }
   ],
   "source": [
    "X_train = sequence.pad_sequences(X_train, maxlen = maxlen)\n",
    "X_test = sequence.pad_sequences(X_test, maxlen = maxlen)\n",
    "print('X_train shape:', X_train.shape)\n",
    "print('X_test shape:', X_test.shape)"
   ]
  },
  {
   "cell_type": "code",
   "execution_count": 25,
   "metadata": {},
   "outputs": [],
   "source": [
    "y_train = np.array(y_train)\n",
    "y_test = np.array(y_test)"
   ]
  },
  {
   "cell_type": "code",
   "execution_count": 26,
   "metadata": {},
   "outputs": [
    {
     "name": "stdout",
     "output_type": "stream",
     "text": [
      "Model: \"sequential_1\"\n",
      "_________________________________________________________________\n",
      "Layer (type)                 Output Shape              Param #   \n",
      "=================================================================\n",
      "embedding_1 (Embedding)      (None, 100, 300)          1741500   \n",
      "_________________________________________________________________\n",
      "lstm_1 (LSTM)                (None, 300)               721200    \n",
      "_________________________________________________________________\n",
      "dropout_1 (Dropout)          (None, 300)               0         \n",
      "_________________________________________________________________\n",
      "dense_1 (Dense)              (None, 1)                 301       \n",
      "=================================================================\n",
      "Total params: 2,463,001\n",
      "Trainable params: 2,463,001\n",
      "Non-trainable params: 0\n",
      "_________________________________________________________________\n"
     ]
    }
   ],
   "source": [
    "model = Sequential()\n",
    "model.add(Embedding(output_dim = vocab_dim,\n",
    "                    input_dim = n_symbols,\n",
    "                    mask_zero = True,\n",
    "                    weights = [embedding_weights],\n",
    "                    input_length = input_length))\n",
    "\n",
    "model.add(LSTM(vocab_dim))\n",
    "model.add(Dropout(0.3)) #한번에 학습시킬 학습률\n",
    "model.add(Dense(1, activation = 'sigmoid')) #output이 0과 1이므로 sigmoid로 설정\n",
    "model.summary()"
   ]
  },
  {
   "cell_type": "code",
   "execution_count": 27,
   "metadata": {},
   "outputs": [],
   "source": [
    "model.compile(optimizer = 'rmsprop',\n",
    "              loss = 'binary_crossentropy', #output이 0과 1이므로 binary\n",
    "              metrics = ['accuracy'])"
   ]
  },
  {
   "cell_type": "code",
   "execution_count": 29,
   "metadata": {},
   "outputs": [
    {
     "name": "stderr",
     "output_type": "stream",
     "text": [
      "C:\\Users\\shine\\anaconda3\\envs\\test\\lib\\site-packages\\ipykernel_launcher.py:5: UserWarning: The `nb_epoch` argument in `fit` has been renamed `epochs`.\n",
      "  \"\"\"\n"
     ]
    },
    {
     "name": "stdout",
     "output_type": "stream",
     "text": [
      "Train on 150000 samples, validate on 50000 samples\n",
      "Epoch 1/2\n",
      "150000/150000 [==============================] - 2624s 17ms/step - loss: 0.3539 - accuracy: 0.8413 - val_loss: 0.3354 - val_accuracy: 0.8508\n",
      "Epoch 2/2\n",
      "150000/150000 [==============================] - 2450s 16ms/step - loss: 0.3019 - accuracy: 0.8687 - val_loss: 0.3201 - val_accuracy: 0.8580\n"
     ]
    },
    {
     "data": {
      "text/plain": [
       "<keras.callbacks.callbacks.History at 0x1e3925b3630>"
      ]
     },
     "execution_count": 29,
     "metadata": {},
     "output_type": "execute_result"
    }
   ],
   "source": [
    "model.fit(X_train, y_train,\n",
    "          batch_size = batch_size,\n",
    "          nb_epoch = n_epoch,\n",
    "          validation_data = (X_test, y_test),\n",
    "          shuffle = True)"
   ]
  },
  {
   "cell_type": "code",
   "execution_count": 30,
   "metadata": {},
   "outputs": [
    {
     "name": "stdout",
     "output_type": "stream",
     "text": [
      "50000/50000 [==============================] - 155s 3ms/step\n",
      "Test score: 0.32008245854854583\n",
      "Test accuracy: 0.8579800128936768\n"
     ]
    }
   ],
   "source": [
    "score = model.evaluate(X_test, y_test, batch_size = batch_size)\n",
    "\n",
    "print('Test score:', score[0])\n",
    "print('Test accuracy:', score[1])"
   ]
  },
  {
   "cell_type": "code",
   "execution_count": null,
   "metadata": {},
   "outputs": [],
   "source": []
  }
 ],
 "metadata": {
  "kernelspec": {
   "display_name": "Python 3",
   "language": "python",
   "name": "python3"
  },
  "language_info": {
   "codemirror_mode": {
    "name": "ipython",
    "version": 3
   },
   "file_extension": ".py",
   "mimetype": "text/x-python",
   "name": "python",
   "nbconvert_exporter": "python",
   "pygments_lexer": "ipython3",
   "version": "3.6.9"
  }
 },
 "nbformat": 4,
 "nbformat_minor": 2
}
