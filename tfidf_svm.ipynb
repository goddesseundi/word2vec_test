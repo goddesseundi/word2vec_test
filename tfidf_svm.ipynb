{
 "cells": [
  {
   "cell_type": "code",
   "execution_count": 1,
   "metadata": {},
   "outputs": [],
   "source": [
    "from konlpy.tag import Okt\n",
    "from pprint import pprint\n",
    "import nltk"
   ]
  },
  {
   "cell_type": "code",
   "execution_count": 2,
   "metadata": {},
   "outputs": [],
   "source": [
    "from sklearn.svm import LinearSVC\n",
    "from nltk.classify.scikitlearn import SklearnClassifier"
   ]
  },
  {
   "cell_type": "code",
   "execution_count": 3,
   "metadata": {},
   "outputs": [],
   "source": [
    "def read_data(filename):\n",
    "    with open(filename, 'r', encoding='utf8') as f:\n",
    "        data = [line.split('\\t') for line in f.read().splitlines()]\n",
    "        data = data[1:] #header 제외\n",
    "    return data"
   ]
  },
  {
   "cell_type": "code",
   "execution_count": 4,
   "metadata": {},
   "outputs": [
    {
     "name": "stdout",
     "output_type": "stream",
     "text": [
      "150000\n",
      "3\n",
      "['9976970', '아 더빙.. 진짜 짜증나네요 목소리', '0']\n",
      "50000\n",
      "3\n",
      "['6270596', '굳 ㅋ', '1']\n"
     ]
    }
   ],
   "source": [
    "train_data = read_data('./ratings_train.txt') \n",
    "test_data = read_data('./ratings_test.txt')\n",
    "print(len(train_data)) # train_data : 150,000\n",
    "print(len(train_data[0]))\n",
    "print (train_data[0])\n",
    "\n",
    "print(len(test_data)) # test_data : 50,000\n",
    "print(len(test_data[0]))\n",
    "print(test_data[0])"
   ]
  },
  {
   "cell_type": "code",
   "execution_count": 6,
   "metadata": {},
   "outputs": [],
   "source": [
    "train = {}\n",
    "for i in range(0, len(train_data)):\n",
    "    train[i] = train_data[i][1]"
   ]
  },
  {
   "cell_type": "code",
   "execution_count": 7,
   "metadata": {},
   "outputs": [],
   "source": [
    "test = {}\n",
    "for i in range(0, len(test_data)):\n",
    "    test[i] = test_data[i][1]"
   ]
  },
  {
   "cell_type": "code",
   "execution_count": 8,
   "metadata": {},
   "outputs": [],
   "source": [
    "pos_tagger = Okt()"
   ]
  },
  {
   "cell_type": "code",
   "execution_count": 9,
   "metadata": {},
   "outputs": [],
   "source": [
    "def tokenizer(text):\n",
    "    text = [pos_tagger.morphs(document) for document in text]\n",
    "    return text"
   ]
  },
  {
   "cell_type": "code",
   "execution_count": 10,
   "metadata": {},
   "outputs": [],
   "source": [
    "combined = train.copy()\n",
    "combined.update(test)"
   ]
  },
  {
   "cell_type": "code",
   "execution_count": 11,
   "metadata": {},
   "outputs": [],
   "source": [
    "combined = tokenizer(combined.values())"
   ]
  },
  {
   "cell_type": "code",
   "execution_count": 16,
   "metadata": {},
   "outputs": [],
   "source": [
    "from gensim.models.word2vec import Word2Vec\n",
    "from gensim.corpora.dictionary import Dictionary\n",
    "import multiprocessing\n",
    "import numpy as np\n",
    "import os"
   ]
  },
  {
   "cell_type": "code",
   "execution_count": 17,
   "metadata": {},
   "outputs": [],
   "source": [
    "vocab_dim = 300 #특징 Vector의 차원 설정\n",
    "maxlen = 100 #최대 시퀀스의 길이.\n",
    "n_iterations = 10  # 반복 수, 많을수록 word2vec의 품질 향상.\n",
    "n_exposures = 30 # word 빈도 최소 기준 수\n",
    "window_size = 7 #target word를 기준으로 예측 단어와의 최대 거리\n",
    "batch_size = 32 #한 번에 학습할 데이터의 크기\n",
    "n_epoch = 2 #학습 반복 수\n",
    "input_length = 100 # 상수 일 때 입력 시퀀스의 길이. Maxlen과 같아야 함.\n",
    "cpu_count = multiprocessing.cpu_count() #학습시킬 컴퓨터 사양 확인"
   ]
  },
  {
   "cell_type": "code",
   "execution_count": 18,
   "metadata": {},
   "outputs": [],
   "source": [
    "model = Word2Vec(size = vocab_dim,\n",
    "                 min_count = n_exposures,\n",
    "                 window = window_size,\n",
    "                 workers = cpu_count,\n",
    "                 iter = n_iterations)"
   ]
  },
  {
   "cell_type": "code",
   "execution_count": 19,
   "metadata": {},
   "outputs": [],
   "source": [
    "model.build_vocab(combined)"
   ]
  },
  {
   "cell_type": "code",
   "execution_count": 20,
   "metadata": {},
   "outputs": [
    {
     "name": "stderr",
     "output_type": "stream",
     "text": [
      "C:\\Users\\shine\\anaconda3\\envs\\test\\lib\\site-packages\\ipykernel_launcher.py:1: DeprecationWarning: Call to deprecated `iter` (Attribute will be removed in 4.0.0, use self.epochs instead).\n",
      "  \"\"\"Entry point for launching an IPython kernel.\n"
     ]
    },
    {
     "data": {
      "text/plain": [
       "(14830614, 21536280)"
      ]
     },
     "execution_count": 20,
     "metadata": {},
     "output_type": "execute_result"
    }
   ],
   "source": [
    "model.train(combined, total_examples=model.corpus_count, epochs=model.iter)"
   ]
  },
  {
   "cell_type": "code",
   "execution_count": 21,
   "metadata": {},
   "outputs": [],
   "source": [
    "def create_dictionaries(train = None, test = None, model = None):\n",
    "    if (train is not None) and (model is not None) and (test is not None):\n",
    "        gensim_dict = Dictionary()\n",
    "        gensim_dict.doc2bow(model.wv.vocab.keys(), allow_update=True)\n",
    "        #단어 목록을 (token_id, token_count)인 2-tuples 생성\n",
    "        w2indx = {v: k+1 for k, v in gensim_dict.items()} # (key, value)인 2-tuples 생성\n",
    "        w2vec = {word: model[word] for word in w2indx.keys()}\n",
    "        #각 단어의 word2vec array 생성\n",
    "\n",
    "        #word의 value를 기준으로 수치화 된 train, test데이터 생성. \n",
    "        def parse_dataset(data):\n",
    "            for i in range(0, len(data)):\n",
    "                txt = pos_tagger.morphs(data[i])\n",
    "                new_txt = []\n",
    "                for word in txt:\n",
    "                    try:\n",
    "                        new_txt.append(w2indx[word])\n",
    "                    except:\n",
    "                        new_txt.append(0)\n",
    "                data[i] = new_txt\n",
    "            return data\n",
    "        train = parse_dataset(train)\n",
    "        test = parse_dataset(test)\n",
    "        return w2indx, w2vec, train, test\n",
    "    else:\n",
    "        print('No data provided...')"
   ]
  },
  {
   "cell_type": "code",
   "execution_count": 22,
   "metadata": {},
   "outputs": [
    {
     "name": "stderr",
     "output_type": "stream",
     "text": [
      "C:\\Users\\shine\\anaconda3\\envs\\test\\lib\\site-packages\\ipykernel_launcher.py:7: DeprecationWarning: Call to deprecated `__getitem__` (Method will be removed in 4.0.0, use self.wv.__getitem__() instead).\n",
      "  import sys\n"
     ]
    }
   ],
   "source": [
    "index_dict, word_vectors, train, test = create_dictionaries(train = train,\n",
    "                                                            test = test,\n",
    "                                                            model = model)"
   ]
  },
  {
   "cell_type": "code",
   "execution_count": 23,
   "metadata": {},
   "outputs": [],
   "source": [
    "n_symbols = len(index_dict) + 1  # adding 1 to account for 0th index\n",
    "embedding_weights = np.zeros((n_symbols, vocab_dim))\n",
    "for word, index in index_dict.items():\n",
    "    embedding_weights[index, :] = word_vectors[word]"
   ]
  },
  {
   "cell_type": "code",
   "execution_count": 24,
   "metadata": {},
   "outputs": [],
   "source": [
    "X_train = train.values()\n",
    "y_train = []\n",
    "for z in train_data:\n",
    "    y_train.append(z[2])\n",
    "y_train = y_train\n",
    "\n",
    "X_test = test.values()\n",
    "y_test = []\n",
    "for zz in test_data:\n",
    "    y_test.append(zz[2])\n",
    "y_test = y_test"
   ]
  },
  {
   "cell_type": "code",
   "execution_count": 26,
   "metadata": {},
   "outputs": [
    {
     "name": "stderr",
     "output_type": "stream",
     "text": [
      "Using TensorFlow backend.\n"
     ]
    }
   ],
   "source": [
    "from keras.preprocessing import sequence\n",
    "from keras.models import Sequential"
   ]
  },
  {
   "cell_type": "code",
   "execution_count": 28,
   "metadata": {},
   "outputs": [
    {
     "name": "stdout",
     "output_type": "stream",
     "text": [
      "X_train shape: (150000, 100)\n",
      "X_test shape: (50000, 100)\n"
     ]
    }
   ],
   "source": [
    "X_train = sequence.pad_sequences(X_train, maxlen = maxlen)\n",
    "X_test = sequence.pad_sequences(X_test, maxlen = maxlen)\n",
    "print('X_train shape:', X_train.shape)\n",
    "print('X_test shape:', X_test.shape)"
   ]
  },
  {
   "cell_type": "code",
   "execution_count": 54,
   "metadata": {},
   "outputs": [],
   "source": [
    "y_train = np.array(y_train)\n",
    "y_test = np.array(y_test)"
   ]
  },
  {
   "cell_type": "code",
   "execution_count": 55,
   "metadata": {},
   "outputs": [],
   "source": [
    "from sklearn import svm"
   ]
  },
  {
   "cell_type": "code",
   "execution_count": 56,
   "metadata": {},
   "outputs": [],
   "source": [
    "def trainTest(trainData, trainLabels, testData, testLabels):\n",
    "    clf = svm.SVC(decision_function_shape='ovo', C=100, gamma=0.9, kernel='rbf')\n",
    "    clf.fit(trainData, trainLabels)\n",
    "    return clf.score(testData, testLabels)"
   ]
  },
  {
   "cell_type": "code",
   "execution_count": 58,
   "metadata": {
    "scrolled": true
   },
   "outputs": [
    {
     "name": "stderr",
     "output_type": "stream",
     "text": [
      "C:\\Users\\shine\\anaconda3\\envs\\test\\lib\\site-packages\\sklearn\\utils\\validation.py:724: DataConversionWarning: A column-vector y was passed when a 1d array was expected. Please change the shape of y to (n_samples, ), for example using ravel().\n",
      "  y = column_or_1d(y, warn=True)\n"
     ]
    },
    {
     "data": {
      "text/plain": [
       "0.51616"
      ]
     },
     "execution_count": 58,
     "metadata": {},
     "output_type": "execute_result"
    }
   ],
   "source": [
    "trainTest(X_train, y_train, X_test, y_test)"
   ]
  },
  {
   "cell_type": "code",
   "execution_count": null,
   "metadata": {},
   "outputs": [],
   "source": []
  }
 ],
 "metadata": {
  "kernelspec": {
   "display_name": "Python 3",
   "language": "python",
   "name": "python3"
  },
  "language_info": {
   "codemirror_mode": {
    "name": "ipython",
    "version": 3
   },
   "file_extension": ".py",
   "mimetype": "text/x-python",
   "name": "python",
   "nbconvert_exporter": "python",
   "pygments_lexer": "ipython3",
   "version": "3.6.9"
  }
 },
 "nbformat": 4,
 "nbformat_minor": 2
}
